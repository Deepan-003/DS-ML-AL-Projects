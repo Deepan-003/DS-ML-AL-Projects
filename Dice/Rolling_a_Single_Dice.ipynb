{
 "cells": [
  {
   "cell_type": "markdown",
   "metadata": {},
   "source": [
    "# Rolling Single Dice\n",
    "\n",
    "In this we will be **rolling** a **single dice** with **Six Faces** i.e., Cube\n",
    "\n",
    "1. *Cube* ------------------------ **Six Sided**\n",
    "2. *Dodecahedron* ---------------- **twelve sided**\n",
    "3. *Cosihexagon* ----------------- **Twenty Six Sides**\n",
    "4. *Zocchihedron* ---------------- **Hundred Sides** "
   ]
  },
  {
   "cell_type": "markdown",
   "metadata": {},
   "source": [
    "## Define a Problem \n",
    "\n",
    "1. Dice\n",
    "2. Random Face Number\n",
    "3. Looping"
   ]
  },
  {
   "cell_type": "markdown",
   "metadata": {},
   "source": [
    "## Pseudo Algorithm \n",
    "\n",
    "1. Develop random number\n",
    "2. Check the number\n",
    "3. Print the Dice Face\n",
    "4. Looping"
   ]
  },
  {
   "cell_type": "code",
   "execution_count": null,
   "metadata": {},
   "outputs": [],
   "source": [
    "# importing necessery Libraries\n",
    "\n",
    "import random # Provides access to the functions and supports different types of operations\n",
    "\n",
    "print(\"Welcome to the Dice Simulation\") #Print the welcome statement\n",
    "print(\"Roll of the Dice\") #Print Roll the Dice for Player Input\n",
    "\n",
    "x = \"y\" # assigning y to the variable x\n",
    "\n",
    "while x == \"y\": # Start while loop for the player input\n",
    "    \n",
    "    number = random.randint(1,6) # random.randint function start at 1 and end and includes 6\n",
    "    \n",
    "    if number == 1: # if statement if the randomness be 1 / Create the Dice shape by the use of Print statement \n",
    "        print(\"----------\")\n",
    "        print(\"|        |\")\n",
    "        print(\"|   O    |\")\n",
    "        print(\"|        |\")\n",
    "        print(\"----------\")\n",
    "        print(\"Score One\")\n",
    "        \n",
    "    if number == 2:  # if statement if the randomness be 2 / Create the Dice shape by the use of Print statement \n",
    "        print(\"----------\")\n",
    "        print(\"|        |\")\n",
    "        print(\"| O    O |\")\n",
    "        print(\"|        |\")\n",
    "        print(\"----------\")\n",
    "        print(\"Score Two\")\n",
    "        \n",
    "    if number == 3:  # if statement if the randomness be 3 / Create the Dice shape by the use of Print statement \n",
    "        print(\"----------\")\n",
    "        print(\"|    O   |\")\n",
    "        print(\"|    O   |\")\n",
    "        print(\"|    O   |\")\n",
    "        print(\"----------\")\n",
    "        print(\"Score Three\")\n",
    "        \n",
    "    if number == 4:  # if statement if the randomness be 4 / Create the Dice shape by the use of Print statement \n",
    "        print(\"----------\")\n",
    "        print(\"| O    O |\")\n",
    "        print(\"|        |\")\n",
    "        print(\"| O    O |\")\n",
    "        print(\"----------\")\n",
    "        print(\"Score Four\")\n",
    "        \n",
    "    if number == 5:  # if statement if the randomness be 5 / Create the Dice shape by the use of Print statement \n",
    "        print(\"----------\")\n",
    "        print(\"|O     O |\")\n",
    "        print(\"|   O    |\")\n",
    "        print(\"|O     O |\")\n",
    "        print(\"----------\")\n",
    "        print(\"Score Five\")\n",
    "        \n",
    "    if number == 6:  # if statement if the randomness be 6 / Create the Dice shape by the use of Print statement \n",
    "        print(\"----------\")\n",
    "        print(\"|O     O |\")\n",
    "        print(\"|O     O |\")\n",
    "        print(\"|O     O |\")\n",
    "        print(\"----------\")\n",
    "        print(\"Score Six\")\n",
    "        \n",
    "    x = input(\"Press y to roll again\") # input parameter for the player "
   ]
  },
  {
   "cell_type": "markdown",
   "metadata": {},
   "source": [
    "## **Thanks for Reading**\n",
    "\n",
    "### Read Also\n",
    "\n",
    "*Rolling_N_Dice*\n",
    "\n",
    "*Rolling_a_Dice_Using_Gui*\n",
    "\n",
    "*Creating .Exe and .apk for the Dice Game* \n",
    "\n",
    "### By Deepan Ilangkamban Ramesh "
   ]
  },
  {
   "cell_type": "markdown",
   "metadata": {},
   "source": [
    "**medium** : **https://deepanilangkamban.medium.com/**\n",
    "\n",
    "**LinkedIn**: **https://www.linkedin.com/in/deepan-ilangkamban-ramesh/**\n",
    "\n",
    "**Github** : **https://github.com/Deepan-003**"
   ]
  },
  {
   "cell_type": "markdown",
   "metadata": {},
   "source": [
    "----------------------------------------------------------------------------------------------------------------------------------------------------------"
   ]
  }
 ],
 "metadata": {
  "kernelspec": {
   "display_name": "Python 3",
   "language": "python",
   "name": "python3"
  },
  "language_info": {
   "codemirror_mode": {
    "name": "ipython",
    "version": 3
   },
   "file_extension": ".py",
   "mimetype": "text/x-python",
   "name": "python",
   "nbconvert_exporter": "python",
   "pygments_lexer": "ipython3",
   "version": "3.7.6"
  }
 },
 "nbformat": 4,
 "nbformat_minor": 4
}
