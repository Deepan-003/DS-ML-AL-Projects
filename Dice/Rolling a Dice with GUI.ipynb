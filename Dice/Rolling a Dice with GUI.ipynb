{
 "cells": [
  {
   "cell_type": "markdown",
   "metadata": {},
   "source": [
    "# Rolling a Dice with the use of GUI\n",
    "\n",
    "In this we will able to **roll** **Two** number of dice with **six** number of **Sides** such as follows\n",
    "\n",
    "1. *Cube* ------------------------ **Six Sided**\n",
    "2. *Dodecahedron* ---------------- **twelve sided**\n",
    "3. *Cosihexagon* ----------------- **Twenty Six Sides**\n",
    "4. *Zocchihedron* ---------------- **Hundred Sides** "
   ]
  },
  {
   "cell_type": "markdown",
   "metadata": {},
   "source": [
    "## Define a Problem \n",
    "\n",
    "1. Dice with GUI\n",
    "2. Random Face Number\n",
    "3. Looping\n",
    "4. Design"
   ]
  },
  {
   "cell_type": "markdown",
   "metadata": {},
   "source": [
    "## Pseudo Algorithm \n",
    "\n",
    "1. Develop random numbers\n",
    "2. Develop GUI Interface\n",
    "3. Check the number\n",
    "4. Print the Dice Face\n",
    "5. Looping"
   ]
  },
  {
   "cell_type": "code",
   "execution_count": null,
   "metadata": {},
   "outputs": [],
   "source": [
    "#Import necessery Libraries \n",
    "\n",
    "import random # Provides access to the functions and supports different types of operations\n",
    "from tkinter import * #Import Tkinter GUI\n",
    "from winsound import * # Import winsound for sounds for buttons\n",
    "\n",
    "#Create root \n",
    "\n",
    "root = Tk() # creating base \n",
    "root.geometry(\"750x400\") # geometry\n",
    "root.wm_attributes('-alpha', 0.9) # root.attribute function for transperency of the background (alpha = 0 to 1.0)\n",
    "#root.configure(background='white') # Background colour \n",
    "\n",
    "# Label for Root\n",
    "\n",
    "l1 = Label(root,text = \"\",font = (\"times\", 300)) # Labeling the main fonts \n",
    "\n",
    "# (Create Background)* \n",
    "\n",
    "#bg = PhotoImage(file = \"dicebg1.png\") #step 1: Load Image\n",
    "#label1 = Label( root, image = bg) #Step 2: Label the bg to the Image variable\n",
    "#label1.place(x = 0, y = 0, width = 800, height = 600 ) # Step 3: .Place function for adjustment \n",
    "\n",
    "\n",
    "# Create Frame\n",
    "\n",
    "frame1 = Frame(root) # Creating frame for the TK\n",
    "frame1.pack(pady = 10 ) # .pack for adjustment and pady for space\n",
    "  \n",
    "#Function / Pseudo Algorithm\n",
    "\n",
    "def roll():\n",
    "    number = [\"\\u2680\",\"\\u2681\",\"\\u2682\",\"\\u2683\",\"\\u2684\",\"\\u2685\"] # number variables comprises of unicodes for 1,2 etc.,\n",
    "    l1.config(text=f'{random.choice(number)}{random.choice(number)}') # applying random functions for the dice \n",
    "    l1.pack()\n",
    "\n",
    "# Add buttons \n",
    "\n",
    "button1 = Button(frame1,text=\"Welcome to Deepan's Dice Game\") # Created the Dummy buttons to show my name 😂\n",
    "button1.pack(pady=50)\n",
    "\n",
    "b1 =Button(root,text=\"lets roll......\",command=roll) #main button with command used roll function to roll the dice\n",
    "b1.place(x=330,y=0, width = 100, height = 50) # placement for \"lets roll.......\"\n",
    "\n",
    "# (Sound for Buttons)**\n",
    "\n",
    "#play = lambda: PlaySound('Sound.wav', SND_FILENAME) # step 1: Load the sound file wav, mp3 etc.,\n",
    "#button = Button(root, text = 'Play', command = play) # step 2: Play command\n",
    "#button.pack()\n",
    "\n",
    "# Main Loop \n",
    "\n",
    "root.mainloop() #c Call Mai Function / Program"
   ]
  },
  {
   "cell_type": "markdown",
   "metadata": {},
   "source": [
    "### Notes \n",
    "\n",
    "***Back Ground*** \n",
    "\n",
    "***Sound***\n",
    "\n",
    "**These two functions are muted in the python if you want to explore remove the # tag and perform these operations**"
   ]
  },
  {
   "cell_type": "markdown",
   "metadata": {},
   "source": [
    "## **Thanks for Reading**\n",
    "\n",
    "### Read Also\n",
    "\n",
    "*Rolling_N_Dice*\n",
    "\n",
    "*Rolling_a_Single_Dice*\n",
    "\n",
    "*Creating .Exe and .apk for the Dice Game* \n",
    "\n",
    "### By Deepan Ilangkamban Ramesh "
   ]
  },
  {
   "cell_type": "markdown",
   "metadata": {},
   "source": [
    "**medium** : **https://deepanilangkamban.medium.com/**\n",
    "\n",
    "**LinkedIn**: **https://www.linkedin.com/in/deepan-ilangkamban-ramesh/**\n",
    "\n",
    "**Github** : **https://github.com/Deepan-003**"
   ]
  },
  {
   "cell_type": "markdown",
   "metadata": {},
   "source": [
    "------------------------------------------------------------------------------------------------------------------------------------------------------"
   ]
  }
 ],
 "metadata": {
  "kernelspec": {
   "display_name": "Python 3",
   "language": "python",
   "name": "python3"
  },
  "language_info": {
   "codemirror_mode": {
    "name": "ipython",
    "version": 3
   },
   "file_extension": ".py",
   "mimetype": "text/x-python",
   "name": "python",
   "nbconvert_exporter": "python",
   "pygments_lexer": "ipython3",
   "version": "3.7.6"
  }
 },
 "nbformat": 4,
 "nbformat_minor": 4
}
