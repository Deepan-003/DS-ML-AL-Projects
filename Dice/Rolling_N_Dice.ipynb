{
 "cells": [
  {
   "cell_type": "markdown",
   "metadata": {},
   "source": [
    "# Rolling N number of Die\n",
    "\n",
    "In this we will able to **roll** **N** number of dice with **N** number of **Sides** such as follows\n",
    "\n",
    "1. *Cube* ------------------------ **Six Sided**\n",
    "2. *Dodecahedron* ---------------- **twelve sided**\n",
    "3. *Cosihexagon* ----------------- **Twenty Six Sides**\n",
    "4. *Zocchihedron* ---------------- **Hundred Sides** "
   ]
  },
  {
   "cell_type": "markdown",
   "metadata": {},
   "source": [
    "## Define a Problem \n",
    "\n",
    "1. get N, number of Dice \n",
    "2. Develop N, number of Dice \n",
    "3. Get N, Number of Sides\n",
    "4. Print the Results what player provides. "
   ]
  },
  {
   "cell_type": "markdown",
   "metadata": {},
   "source": [
    "## Pseudo Algorithm \n",
    "\n",
    "1. Develop random numbers\n",
    "2. Check the number\n",
    "3. Develop N Sides \n",
    "4. Check the Sides\n",
    "5. Print the Dice Face\n",
    "6. Looping"
   ]
  },
  {
   "cell_type": "code",
   "execution_count": 1,
   "metadata": {},
   "outputs": [
    {
     "name": "stdout",
     "output_type": "stream",
     "text": [
      "Ready to Roll? Y or N: y\n",
      "Please enter the amount of dice you wish to roll: 2\n",
      "Please enter the amount of sides you wish on your dice: 6\n",
      "you rolled a: 1\n",
      "you rolled a: 5\n",
      "Ready to Roll? Y or N: y\n",
      "Please enter the amount of dice you wish to roll: 3\n",
      "Please enter the amount of sides you wish on your dice: 6\n",
      "you rolled a: 4\n",
      "you rolled a: 3\n",
      "you rolled a: 1\n",
      "Ready to Roll? Y or N: n\n",
      "Thank you for playing!\n"
     ]
    }
   ],
   "source": [
    "# importing necessery Libraries\n",
    "\n",
    "import random # Provides access to the functions and supports different types of operations\n",
    "\n",
    "# Pseudo Code\n",
    "\n",
    "def roll(dice,sides): # define \"Roll\" function\n",
    "    r = 0 # Start r at 0\n",
    "    while r < dice: # Start while loop for number of dice selected \n",
    "        rolls = random.randint(1, sides) # storing random roll to variable rolls\n",
    "        r += 1 # Iteration / Increase r by 1 until loop validates false\n",
    "        print(\"you rolled a:\", rolls) # Print out the roll of die selected\n",
    "        \n",
    "def main(): #Define main function / program\n",
    "    rolling = True # setting variable for test true in initial loop\n",
    "    while rolling: # while loop for True conditions\n",
    "        answer = input(\"Ready to Roll? Y or N: \") # Receive input to begin program\n",
    "        if answer.lower() == \"y\": #if player say \"y\" run the program\n",
    "            die = int(input(\"Please enter the amount of dice you wish to roll: \")) # Create variable for amount of Dice as Die\n",
    "            sides = int(input(\"Please enter the amount of sides you wish on your dice: \")) # Create variable for amount of Sides as Sides\n",
    "            roll(die, sides) # Pass user input variables to roll functions\n",
    "        else : # if user selected other than \"y\" or \"Y\" \n",
    "            print(\"Thank you for playing!\") #Print Thank you\n",
    "            break #End while loop / Program / game\n",
    "            \n",
    "main() #Call main function          \n",
    "        "
   ]
  },
  {
   "cell_type": "markdown",
   "metadata": {},
   "source": [
    "## **Thanks for Reading**\n",
    "\n",
    "### Read Also\n",
    "\n",
    "*Rolling_a_Single_Dice*\n",
    "\n",
    "*Rolling_a_Dice_Using_Gui*\n",
    "\n",
    "*Creating .Exe and .apk for the Dice Game* \n",
    "\n",
    "### By Deepan Ilangkamban Ramesh "
   ]
  },
  {
   "cell_type": "markdown",
   "metadata": {},
   "source": [
    "**medium** : **https://deepanilangkamban.medium.com/**\n",
    "\n",
    "**LinkedIn**: **https://www.linkedin.com/in/deepan-ilangkamban-ramesh/**\n",
    "\n",
    "**Github** : **https://github.com/Deepan-003**"
   ]
  },
  {
   "cell_type": "markdown",
   "metadata": {},
   "source": [
    "------------------------------------------------------------------------------------------------------------------------------------------------------------------------------------"
   ]
  }
 ],
 "metadata": {
  "kernelspec": {
   "display_name": "Python 3",
   "language": "python",
   "name": "python3"
  },
  "language_info": {
   "codemirror_mode": {
    "name": "ipython",
    "version": 3
   },
   "file_extension": ".py",
   "mimetype": "text/x-python",
   "name": "python",
   "nbconvert_exporter": "python",
   "pygments_lexer": "ipython3",
   "version": "3.7.6"
  }
 },
 "nbformat": 4,
 "nbformat_minor": 4
}
